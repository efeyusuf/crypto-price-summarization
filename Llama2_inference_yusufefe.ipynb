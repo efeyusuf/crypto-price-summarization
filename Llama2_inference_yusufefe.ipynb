{
  "nbformat": 4,
  "nbformat_minor": 0,
  "metadata": {
    "colab": {
      "provenance": []
    },
    "kernelspec": {
      "name": "python3",
      "display_name": "Python 3"
    },
    "language_info": {
      "name": "python"
    }
  },
  "cells": [
    {
      "cell_type": "code",
      "execution_count": null,
      "metadata": {
        "id": "tZeZNa3Y9-br"
      },
      "outputs": [],
      "source": [
        "!pip install -q -U bitsandbytes\n",
        "!pip install -q -U git+https://github.com/huggingface/transformers.git\n",
        "!pip install -q -U git+https://github.com/huggingface/peft.git\n",
        "!pip install -q -U git+https://github.com/huggingface/accelerate.git"
      ]
    },
    {
      "cell_type": "code",
      "source": [
        "from transformers import AutoModelForCausalLM, AutoTokenizer\n",
        "\n",
        "model_id = \"yusufefe/llama2finetune\"\n",
        "\n",
        "model = AutoModelForCausalLM.from_pretrained(model_id, load_in_4bit=True, device_map=\"auto\")\n",
        "tokenizer = AutoTokenizer.from_pretrained(model_id)"
      ],
      "metadata": {
        "id": "-edwuBqZ-P8I"
      },
      "execution_count": null,
      "outputs": []
    },
    {
      "cell_type": "code",
      "source": [
        "text = \"\"\"Could you summarize why Ethereum price decreased slightly in the given one-hour time interval, decreased by 5% from $3500 to $3325. Keep your summary short\n",
        "Here are the tweets that you can use to summarize:\n",
        "Latest market reports suggest less aggressive buying of Ethereum by institutional investors. #Ethereum #InstitutionalBuying\n",
        "Goldman Sachs seems to pivot towards Bitcoin, slowing down Ethereum's recent price surge. #GoldmanSachs #EthereumPrice\n",
        "Market uncertainty and low trading volumes affect Ethereum prices. #EthereumTrading\n",
        "With looming regulations, the Ethereum community reacts with price conservatism. #CryptoRegulations\n",
        "Despite the setback, DeFi projects on Ethereum march forward. #DeFiEthereum\n",
        "The dip in Ethereum price adds the chance of buying the dip for long-term holders. #BuyTheDip\n",
        "Despite the price drop, Ethereum 2.0 upgrade promises more efficiency and scalability. #EthereumUpgrade\n",
        "Price correction in Ethereum is viewed as market's health-check by some analysts. #EthereumCorrection\n",
        "Ethereum 2.0 staking continues to rise despite short-term market reactions. #ETH2Staking\n",
        "The Ethereum community remains strong amidst price fluctuations. Remember, it's about the tech and vision, not just the price.  #EthereumCommunity\n",
        "\n",
        "###Assistant:\n",
        "\"\"\"\n",
        "device = \"cuda:0\"\n",
        "\n",
        "inputs = tokenizer(text, return_tensors=\"pt\").to(device)\n",
        "outputs = model.generate(**inputs, max_new_tokens=100)\n",
        "print(tokenizer.decode(outputs[0], skip_special_tokens=True))"
      ],
      "metadata": {
        "id": "mXFJ4Anx_FiI"
      },
      "execution_count": null,
      "outputs": []
    }
  ]
}