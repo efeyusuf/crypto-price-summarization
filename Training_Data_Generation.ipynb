{
  "nbformat": 4,
  "nbformat_minor": 0,
  "metadata": {
    "colab": {
      "provenance": []
    },
    "kernelspec": {
      "name": "python3",
      "display_name": "Python 3"
    },
    "language_info": {
      "name": "python"
    }
  },
  "cells": [
    {
      "cell_type": "code",
      "execution_count": 12,
      "metadata": {
        "id": "qdEfUDDN4qff",
        "colab": {
          "base_uri": "https://localhost:8080/"
        },
        "outputId": "5317ceac-0693-4bc0-c99c-ca40e83bd5bd"
      },
      "outputs": [
        {
          "output_type": "stream",
          "name": "stdout",
          "text": [
            "Collecting openai\n",
            "  Downloading openai-1.4.0-py3-none-any.whl (221 kB)\n",
            "\u001b[2K     \u001b[90m━━━━━━━━━━━━━━━━━━━━━━━━━━━━━━━━━━━━━━━━\u001b[0m \u001b[32m221.9/221.9 kB\u001b[0m \u001b[31m2.0 MB/s\u001b[0m eta \u001b[36m0:00:00\u001b[0m\n",
            "\u001b[?25hRequirement already satisfied: anyio<5,>=3.5.0 in /usr/local/lib/python3.10/dist-packages (from openai) (3.7.1)\n",
            "Requirement already satisfied: distro<2,>=1.7.0 in /usr/lib/python3/dist-packages (from openai) (1.7.0)\n",
            "Collecting httpx<1,>=0.23.0 (from openai)\n",
            "  Downloading httpx-0.25.2-py3-none-any.whl (74 kB)\n",
            "\u001b[2K     \u001b[90m━━━━━━━━━━━━━━━━━━━━━━━━━━━━━━━━━━━━━━━━\u001b[0m \u001b[32m75.0/75.0 kB\u001b[0m \u001b[31m7.5 MB/s\u001b[0m eta \u001b[36m0:00:00\u001b[0m\n",
            "\u001b[?25hRequirement already satisfied: pydantic<3,>=1.9.0 in /usr/local/lib/python3.10/dist-packages (from openai) (1.10.13)\n",
            "Requirement already satisfied: sniffio in /usr/local/lib/python3.10/dist-packages (from openai) (1.3.0)\n",
            "Requirement already satisfied: tqdm>4 in /usr/local/lib/python3.10/dist-packages (from openai) (4.66.1)\n",
            "Requirement already satisfied: typing-extensions<5,>=4.5 in /usr/local/lib/python3.10/dist-packages (from openai) (4.5.0)\n",
            "Requirement already satisfied: idna>=2.8 in /usr/local/lib/python3.10/dist-packages (from anyio<5,>=3.5.0->openai) (3.6)\n",
            "Requirement already satisfied: exceptiongroup in /usr/local/lib/python3.10/dist-packages (from anyio<5,>=3.5.0->openai) (1.2.0)\n",
            "Requirement already satisfied: certifi in /usr/local/lib/python3.10/dist-packages (from httpx<1,>=0.23.0->openai) (2023.11.17)\n",
            "Collecting httpcore==1.* (from httpx<1,>=0.23.0->openai)\n",
            "  Downloading httpcore-1.0.2-py3-none-any.whl (76 kB)\n",
            "\u001b[2K     \u001b[90m━━━━━━━━━━━━━━━━━━━━━━━━━━━━━━━━━━━━━━━━\u001b[0m \u001b[32m76.9/76.9 kB\u001b[0m \u001b[31m7.0 MB/s\u001b[0m eta \u001b[36m0:00:00\u001b[0m\n",
            "\u001b[?25hCollecting h11<0.15,>=0.13 (from httpcore==1.*->httpx<1,>=0.23.0->openai)\n",
            "  Downloading h11-0.14.0-py3-none-any.whl (58 kB)\n",
            "\u001b[2K     \u001b[90m━━━━━━━━━━━━━━━━━━━━━━━━━━━━━━━━━━━━━━━━\u001b[0m \u001b[32m58.3/58.3 kB\u001b[0m \u001b[31m8.0 MB/s\u001b[0m eta \u001b[36m0:00:00\u001b[0m\n",
            "\u001b[?25hInstalling collected packages: h11, httpcore, httpx, openai\n",
            "\u001b[31mERROR: pip's dependency resolver does not currently take into account all the packages that are installed. This behaviour is the source of the following dependency conflicts.\n",
            "llmx 0.0.15a0 requires cohere, which is not installed.\n",
            "llmx 0.0.15a0 requires tiktoken, which is not installed.\u001b[0m\u001b[31m\n",
            "\u001b[0mSuccessfully installed h11-0.14.0 httpcore-1.0.2 httpx-0.25.2 openai-1.4.0\n"
          ]
        }
      ],
      "source": [
        "!pip install openai"
      ]
    },
    {
      "cell_type": "code",
      "source": [
        "messages_try = [\n",
        "    {\n",
        "        \"role\": \"user\",\n",
        "        \"content\": \"I want you to pick a crypto currency, such as Bitcoin, Ethereum, etc. Then tell me how its price changed in the stated one hour time interval (I want you to make it up, either increase, steady, or decrease)\",\n",
        "    },\n",
        "    {\n",
        "        \"role\": \"assistant\",\n",
        "        \"content\": \"Understood! What else?\",\n",
        "    },\n",
        "    {\n",
        "        \"role\": \"user\",\n",
        "        \"content\": \"Also create 10 tweets about that crypto currency. Probably those tweets will explain the possible reasons for its price change. At the end, provide a summary of what happened to the price and for what reason!\"\n",
        "    },\n",
        "    {\n",
        "        \"role\": \"assistant\",\n",
        "        \"content\": \"Could you give me one example about how my output should look like?\",\n",
        "    },\n",
        "    {\n",
        "        \"role\": \"user\",\n",
        "        \"content\": \"\"\"Price movement: Bitcoin price increased sharply in the given one-hour time interval, increased %10, from $30k to $33k. Tweets: 1) BlackRock's Bitcoin ETF application could reshape crypto investments. #BlackRock #BitcoinETF.\n",
        "2) With BlackRock's move, are we witnessing a new era for Bitcoin in mainstream finance? #CryptoEvolution\n",
        "3) The Bitcoin community is abuzz with BlackRock's ETF application, signaling mainstream acceptance. #BitcoinBuzz\n",
        "4) BlackRock's entry into Bitcoin with an ETF might be a game-changer for institutional investors. #CryptoShift\n",
        "5) BlackRock and Bitcoin, a powerful combination that could accelerate crypto adoption. #BlackRockBitcoin\n",
        "6) Exciting times for Bitcoin with its latest security and scalability upgrade. #BitcoinTech\n",
        "7) Bitcoin's journey to becoming a legal tender globally marks a new financial era. #BitcoinGlobal\n",
        "8) Renewable energy is powering Bitcoin mining, leading to a greener crypto future. #GreenBitcoin\n",
        "9) Universities are now teaching Bitcoin and blockchain, marking a shift in finance education. #BitcoinLearning\n",
        "10) Bitcoin is becoming a tool for financial freedom worldwide, a true digital revolution. #BitcoinFreedom.\n",
        "Summary:\n",
        "Bitcoin's price jump from $30k to $33k was driven by BlackRock's Bitcoin ETF application, boosting mainstream acceptance and investor confidence, along with technological advancements in the cryptocurrency.\n",
        "\"\"\"\n",
        "    },\n",
        "    {\n",
        "        \"role\": \"user\",\n",
        "        \"content\": \"Please provide a random output in the form of example given above!\",\n",
        "    }\n",
        "]"
      ],
      "metadata": {
        "id": "GaMedzb4HGnK"
      },
      "execution_count": 14,
      "outputs": []
    },
    {
      "cell_type": "code",
      "source": [
        "import os\n",
        "from openai import AzureOpenAI\n",
        "\n",
        "client = AzureOpenAI(\n",
        "    api_key = \"932771f9c30548d2a849192433ef3ac8\",\n",
        "    api_version = \"2023-10-01-preview\",\n",
        "    azure_endpoint = \"https://synopticgpt4.openai.azure.com\"\n",
        "    )\n",
        "\n",
        "deployment_name=\"gpt4\" #This will correspond to the custom name you chose for your deployment when you deployed a model.\n",
        "\n",
        "# Send a completion call to generate an answer\n",
        "print('Sending a test completion job')\n",
        "#start_phrase = 'Write a tagline for an ice cream shop. '\n",
        "response = client.chat.completions.create(model=deployment_name, messages=messages_try, max_tokens=500, n=125)\n",
        "print(response.choices[0])"
      ],
      "metadata": {
        "colab": {
          "base_uri": "https://localhost:8080/"
        },
        "id": "p4rF4zGF6Fvy",
        "outputId": "41d14534-e849-41cd-deb0-c6df8fe948a5"
      },
      "execution_count": 21,
      "outputs": [
        {
          "output_type": "stream",
          "name": "stdout",
          "text": [
            "Sending a test completion job\n",
            "Choice(finish_reason='stop', index=0, message=ChatCompletionMessage(content=\"Price movement: In the given one-hour interval, the Ethereum price observed a steady state of around $2000.\\n\\nTweets:\\n1) Amazon stepping into crypto space? Rumors hinting Ethereum might be their first choice! #AmazonCrypto #Ethereum \\n2) Interesting developments to watch today in the Ethereum community. Is the Amazon partnership real? #EthereumNews \\n3) Ethereum maintained its stable position today despite some market fluctuations. #EthereumSteady \\n4) Given the recent Ethereum steady market, traders are watching the potential Amazon collaboration closely. #EthereumAmazon\\n5) Ethereum's scalability upgrade is stalled, Having an impact on its stable market position. #EthereumUpgrade\\n6) Could Amazon's much-awaited entry into cryptocurrency be the turning point for Ethereum? #AmazonEntry #Crypto\\n7) Even without the Amazon news, Ethereum's intrinsic qualities make it a fascinating bet for long-term investors. #EthereumInvest\\n8) With the potential Amazon partnership, could Ethereum be setting the bar for business-blockchain collaborations? #EthereumPartners\\n9) Ethereum is much more than a cryptocurrency; its smart contract functionality has countless applications. #EthereumPotential\\n10) The Ethereum-Amazon rumor, if confirmed, could open the door for similar crypto and large corporates collaborations. #EthereumFuture\\n\\nSummary: Despite some market fluctuations, Ethereum's price remained stable around $2000. This can be attributed to potential rumors of collaboration with Amazon, maintaining trust among investors while anticipating a positive outcome from the rumored partnership. Despite the halt in Ethereum’s scalability upgrade, long-term investors are showing interest due to its intrinsic smart contract functionality, keeping the prices comparatively steady.\", role='assistant', function_call=None, tool_calls=None), content_filter_results={'hate': {'filtered': False, 'severity': 'safe'}, 'self_harm': {'filtered': False, 'severity': 'safe'}, 'sexual': {'filtered': False, 'severity': 'safe'}, 'violence': {'filtered': False, 'severity': 'safe'}})\n"
          ]
        }
      ]
    },
    {
      "cell_type": "code",
      "source": [
        "import re"
      ],
      "metadata": {
        "id": "XcZ5U_iJcpLD"
      },
      "execution_count": 17,
      "outputs": []
    },
    {
      "cell_type": "code",
      "source": [
        "#list_of_dicts = []\n",
        "for i in range(125):\n",
        "  data_string = response.choices[i].message.content\n",
        "  # Splitting the data into sections\n",
        "  sections = re.split(r'(Price movement:|Tweets:|Summary:)', data_string)\n",
        "\n",
        "  # Cleaning and organizing the data\n",
        "  data_dict = {}\n",
        "  for i in range(1, len(sections), 2):\n",
        "      key = sections[i].strip()\n",
        "      value = sections[i + 1].strip()\n",
        "      data_dict[key] = value\n",
        "\n",
        "  # Output the dictionary\n",
        "  list_of_dicts.append(data_dict)"
      ],
      "metadata": {
        "id": "5v898Q5xJc2H"
      },
      "execution_count": 22,
      "outputs": []
    },
    {
      "cell_type": "code",
      "source": [
        "data_dicts = list_of_dicts"
      ],
      "metadata": {
        "id": "LciEOMBqcql5"
      },
      "execution_count": 23,
      "outputs": []
    },
    {
      "cell_type": "code",
      "source": [
        "len(data_dicts)"
      ],
      "metadata": {
        "colab": {
          "base_uri": "https://localhost:8080/"
        },
        "id": "MAZIvoMs1a-m",
        "outputId": "4bbd3d78-87d6-46fe-ca60-5e8ac904ee07"
      },
      "execution_count": 34,
      "outputs": [
        {
          "output_type": "execute_result",
          "data": {
            "text/plain": [
              "250"
            ]
          },
          "metadata": {},
          "execution_count": 34
        }
      ]
    },
    {
      "cell_type": "code",
      "source": [
        "import csv\n",
        "\n",
        "# Define the CSV file name\n",
        "csv_file = \"raw_data.csv\"\n",
        "\n",
        "# Write to CSV\n",
        "with open(csv_file, 'w', newline='', encoding='utf-8') as file:\n",
        "    # Assuming all dictionaries have the same keys, use the keys from the first dictionary as fieldnames\n",
        "    fieldnames = data_dicts[0].keys()\n",
        "    writer = csv.DictWriter(file, fieldnames=fieldnames)\n",
        "\n",
        "    # Write the header\n",
        "    writer.writeheader()\n",
        "\n",
        "    # Write the data rows\n",
        "    for data in data_dicts:\n",
        "        writer.writerow(data)\n",
        "\n",
        "print(f\"Data written to {csv_file}\")"
      ],
      "metadata": {
        "colab": {
          "base_uri": "https://localhost:8080/"
        },
        "id": "t65cBoj2fzp7",
        "outputId": "bb969b10-bc4d-4c78-a611-15f5264090ae"
      },
      "execution_count": 35,
      "outputs": [
        {
          "output_type": "stream",
          "name": "stdout",
          "text": [
            "Data written to raw_data.csv\n"
          ]
        }
      ]
    },
    {
      "cell_type": "code",
      "source": [
        "import pandas as pd"
      ],
      "metadata": {
        "id": "sbRovOohEC-s"
      },
      "execution_count": 1,
      "outputs": []
    },
    {
      "cell_type": "code",
      "source": [
        "import pandas as pd\n",
        "\n",
        "file_path = '/content/raw_data.csv'\n",
        "\n",
        "dataframe = pd.read_csv(file_path)\n",
        "\n",
        "print(dataframe)"
      ],
      "metadata": {
        "id": "hYIhI4bmpYQk"
      },
      "execution_count": null,
      "outputs": []
    },
    {
      "cell_type": "code",
      "source": [
        "# Concatenate the first two columns and append \"concat well\"\n",
        "dataframe['Text'] = \"###Human:\\nCould you explain why \" + dataframe[\"Price movement:\"] + \"\\n\\n###Input:\\n\" + dataframe['Tweets:'] + \"\\n\\n###Assistant:\\n\" + dataframe['Summary:']"
      ],
      "metadata": {
        "id": "fjpodeCZqOIA"
      },
      "execution_count": 38,
      "outputs": []
    },
    {
      "cell_type": "code",
      "source": [
        "train_df = dataframe[['Text']]"
      ],
      "metadata": {
        "id": "jmUMZVFGsIuu"
      },
      "execution_count": 39,
      "outputs": []
    },
    {
      "cell_type": "code",
      "source": [
        "train_df"
      ],
      "metadata": {
        "id": "gL3eZGna4zr0"
      },
      "execution_count": null,
      "outputs": []
    },
    {
      "cell_type": "code",
      "source": [
        "file_path = '/content/train_data.csv'\n",
        "\n",
        "# Save the DataFrame to a CSV file\n",
        "train_df.to_csv(file_path, index=False)"
      ],
      "metadata": {
        "id": "MZOtKgmU40Sb"
      },
      "execution_count": 41,
      "outputs": []
    }
  ]
}